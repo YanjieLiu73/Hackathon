{
 "cells": [
  {
   "cell_type": "code",
   "execution_count": 1,
   "id": "3640d87d-750c-47b4-9a08-4e926025316f",
   "metadata": {},
   "outputs": [],
   "source": [
    "import os\n",
    "from langchain_community.document_loaders import TextLoader\n",
    "from langchain_community.vectorstores import FAISS\n",
    "from langchain_openai import AzureOpenAIEmbeddings\n",
    "from langchain.embeddings import OpenAIEmbeddings\n",
    "from langchain_text_splitters import RecursiveCharacterTextSplitter\n",
    "from langchain_community.document_loaders import PyPDFDirectoryLoader"
   ]
  },
  {
   "cell_type": "code",
   "execution_count": 4,
   "id": "0230042e-fc8f-4d8c-9bd0-b3efaa8aa2ce",
   "metadata": {},
   "outputs": [],
   "source": [
    "os.environ[\"AZURE_OPENAI_API_KEY\"] = os.getenv(\"Key_AzureOpenAI\")\n",
    "os.environ[\"AZURE_OPENAI_ENDPOINT\"] = os.getenv(\"Endpoint_AzureOpenAI\")"
   ]
  },
  {
   "cell_type": "code",
   "execution_count": 27,
   "id": "49f0c045-58f5-4b4f-9b45-bcf619957f3f",
   "metadata": {},
   "outputs": [],
   "source": [
    "from openai import AzureOpenAI\n",
    "\n",
    "client = AzureOpenAI(\n",
    "    api_version=\"2024-02-01\"\n",
    ")\n",
    "\n",
    "response = client.chat.completions.create(\n",
    "    model='gpt-4o',\n",
    "    messages=[\n",
    "        {\"role\": \"user\", \n",
    "         \"content\": \"Provide me a \"},\n",
    "    ]\n",
    ")\n"
   ]
  },
  {
   "cell_type": "code",
   "execution_count": 29,
   "id": "1edfd8c3-bf2c-4d68-a697-77b5915c8009",
   "metadata": {},
   "outputs": [],
   "source": [
    "from openai import AzureOpenAI\n",
    "from langchain.chat_models import AzureChatOpenAI\n",
    "\n",
    "llm_AzureOpenAI = AzureOpenAI(\n",
    "    api_version=\"2024-02-01\"\n",
    ")\n",
    "\n",
    "\n",
    "llm_langchain = AzureChatOpenAI(\n",
    "    azure_deployment=\"gpt-4o\",\n",
    "    api_version=\"2024-02-01\",\n",
    "    verbose=False,\n",
    "    temperature=0.3,\n",
    ")"
   ]
  },
  {
   "cell_type": "code",
   "execution_count": 30,
   "id": "8a28341d-213e-47e7-98dc-9586835baaff",
   "metadata": {},
   "outputs": [],
   "source": [
    "from langchain.schema import (\n",
    "    SystemMessage,\n",
    "    HumanMessage,\n",
    "    AIMessage\n",
    ")\n",
    "prompt = \"Provide a detailed company overview for a pitch book presentation.\"\n",
    "messages = [\n",
    "    SystemMessage(content=f\"You are an assistant helping with investment banking slides.  {prompt}\" )                \n",
    "]"
   ]
  },
  {
   "cell_type": "code",
   "execution_count": 34,
   "id": "3df91e81-a649-470a-b7a5-4a030b117ff6",
   "metadata": {},
   "outputs": [
    {
     "data": {
      "text/plain": [
       "ChatCompletion(id='chatcmpl-APgeepugyv41hQXzhN2PIAZkwewAA', choices=[Choice(finish_reason='stop', index=0, logprobs=None, message=ChatCompletionMessage(content='As of my last update in October 2023, Azure OpenAI does not specifically mention support for customer-managed keys (CMK) in its available features. Azure itself does provide extensive support for customer-managed keys across many of its services, particularly in Azure Storage, Azure SQL Database, and other data services where customer control over encryption keys is crucial for meeting compliance and security needs.\\n\\nHowever, for the most precise and up-to-date information regarding customer-managed keys and their support within Azure OpenAI, it is advisable to consult the official Azure documentation or reach out directly to Azure support. Cloud services frequently update their features, and the most current documentation will provide guidance on whether this feature has been implemented or if there are alternative approaches to meet security requirements in Azure OpenAI.', refusal=None, role='assistant', audio=None, function_call=None, tool_calls=None), content_filter_results={'hate': {'filtered': False, 'severity': 'safe'}, 'protected_material_code': {'filtered': False, 'detected': False}, 'protected_material_text': {'filtered': False, 'detected': False}, 'self_harm': {'filtered': False, 'severity': 'safe'}, 'sexual': {'filtered': False, 'severity': 'safe'}, 'violence': {'filtered': False, 'severity': 'safe'}})], created=1730685528, model='gpt-4o-2024-05-13', object='chat.completion', service_tier=None, system_fingerprint='fp_67802d9a6d', usage=CompletionUsage(completion_tokens=153, prompt_tokens=16, total_tokens=169, completion_tokens_details=None, prompt_tokens_details=None), prompt_filter_results=[{'prompt_index': 0, 'content_filter_results': {'hate': {'filtered': False, 'severity': 'safe'}, 'jailbreak': {'filtered': False, 'detected': False}, 'self_harm': {'filtered': False, 'severity': 'safe'}, 'sexual': {'filtered': False, 'severity': 'safe'}, 'violence': {'filtered': False, 'severity': 'safe'}}}])"
      ]
     },
     "execution_count": 34,
     "metadata": {},
     "output_type": "execute_result"
    }
   ],
   "source": [
    "response = llm_AzureOpenAI.chat.completions.create(\n",
    "        model='gpt-4o',\n",
    "        messages=[\n",
    "            {\"role\": \"user\", \"content\": \"Does Azure OpenAI support customer managed keys?\"},\n",
    "        ],\n",
    "    )\n",
    "\n",
    "response"
   ]
  },
  {
   "cell_type": "code",
   "execution_count": 37,
   "id": "7706d879-4b99-42fc-b63e-edbefb919fc0",
   "metadata": {},
   "outputs": [
    {
     "data": {
      "text/plain": [
       "'As of my last update in October 2023, Azure OpenAI does not specifically mention support for customer-managed keys (CMK) in its available features. Azure itself does provide extensive support for customer-managed keys across many of its services, particularly in Azure Storage, Azure SQL Database, and other data services where customer control over encryption keys is crucial for meeting compliance and security needs.\\n\\nHowever, for the most precise and up-to-date information regarding customer-managed keys and their support within Azure OpenAI, it is advisable to consult the official Azure documentation or reach out directly to Azure support. Cloud services frequently update their features, and the most current documentation will provide guidance on whether this feature has been implemented or if there are alternative approaches to meet security requirements in Azure OpenAI.'"
      ]
     },
     "execution_count": 37,
     "metadata": {},
     "output_type": "execute_result"
    }
   ],
   "source": [
    "response.choices[0].message.content"
   ]
  },
  {
   "cell_type": "code",
   "execution_count": 38,
   "id": "6f528ef5-2a45-4a16-a1b2-8e5651d98742",
   "metadata": {},
   "outputs": [
    {
     "data": {
      "text/plain": [
       "'assistant'"
      ]
     },
     "execution_count": 38,
     "metadata": {},
     "output_type": "execute_result"
    }
   ],
   "source": [
    "response.choices[0].message.role"
   ]
  },
  {
   "cell_type": "code",
   "execution_count": null,
   "id": "4af5df12-9221-46cf-9213-8e0437ba5b69",
   "metadata": {},
   "outputs": [],
   "source": []
  }
 ],
 "metadata": {
  "kernelspec": {
   "display_name": ".venv",
   "language": "python",
   "name": ".venv"
  },
  "language_info": {
   "codemirror_mode": {
    "name": "ipython",
    "version": 3
   },
   "file_extension": ".py",
   "mimetype": "text/x-python",
   "name": "python",
   "nbconvert_exporter": "python",
   "pygments_lexer": "ipython3",
   "version": "3.10.15"
  }
 },
 "nbformat": 4,
 "nbformat_minor": 5
}
