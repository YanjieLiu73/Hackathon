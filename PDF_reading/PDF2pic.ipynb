{
 "cells": [
  {
   "cell_type": "code",
   "execution_count": 4,
   "id": "925da9f5-de92-4eab-a3b3-622dbec370dd",
   "metadata": {},
   "outputs": [],
   "source": [
    "import os\n",
    "from openai import OpenAI\n",
    "\n",
    "os.environ[\"AZURE_OPENAI_API_KEY\"] = os.getenv('Key_AzureOpenAI')\n",
    "os.environ[\"AZURE_OPENAI_ENDPOINT\"] = os.getenv('Endpoint_AzureOpenAI')\n",
    "\n",
    "os.environ['OPENAI_API_KEY'] = os.getenv('Key_OpenAI')"
   ]
  },
  {
   "cell_type": "code",
   "execution_count": 6,
   "id": "3dd2e55b-a735-4938-b37f-725f48310819",
   "metadata": {},
   "outputs": [],
   "source": [
    "client = OpenAI()"
   ]
  },
  {
   "cell_type": "code",
   "execution_count": 38,
   "id": "1a66ea82-ad90-42d9-8266-ec2507f77fd3",
   "metadata": {},
   "outputs": [
    {
     "name": "stdout",
     "output_type": "stream",
     "text": [
      "FileObject(id='file-0tAhpiBLCPw2v5CwIia7lk6Y', bytes=714094, created_at=1730655845, filename='APL_10k_2023Q4.pdf', object='file', purpose='assistants', status='processed', status_details=None)\n"
     ]
    }
   ],
   "source": [
    "filepath_AAPL = \"../10k/APL_10k_2023Q4.pdf\"\n",
    "filepath_report1 = \"../../US_Equity_Research/Boeing/Barclays Airbus Boeing Delivery tracker 8 Aug 2022.pdf\"\n",
    "\n",
    "file = client.files.create(\n",
    "    file=open(filepath_AAPL, 'rb'),\n",
    "    purpose='assistants'\n",
    ")\n",
    "\n",
    "print(file)"
   ]
  },
  {
   "cell_type": "code",
   "execution_count": 39,
   "id": "4fd21ec3-a1a7-44d2-89ac-b7619398a251",
   "metadata": {},
   "outputs": [],
   "source": [
    "assistant = client.beta.assistants.create(\n",
    "    name = \"PDF Helper\",\n",
    "    instructions = \"You are my assistant who can answer questions from the given pdf\",\n",
    "    tools = [{\"type\":\"file_search\"}],\n",
    "    model = \"gpt-4o\",\n",
    ")"
   ]
  },
  {
   "cell_type": "code",
   "execution_count": 40,
   "id": "d3c52951-8145-4e9a-9b56-caf7320aef0e",
   "metadata": {},
   "outputs": [
    {
     "name": "stdout",
     "output_type": "stream",
     "text": [
      "Thread(id='thread_K08CQLTVJSkVrA8RXnu3W5j6', created_at=1730655847, metadata={}, object='thread', tool_resources=ToolResources(code_interpreter=None, file_search=None))\n",
      "user:what do you know about this document?\n",
      "assistant:I need you to upload the document you are referring to so I can analyze and provide information about it.\n"
     ]
    }
   ],
   "source": [
    "thread = client.beta.threads.create()\n",
    "print(thread)\n",
    "\n",
    "message = client.beta.threads.messages.create(\n",
    "    thread_id = thread.id,\n",
    "    role = \"user\",\n",
    "    content = \"what do you know about this document?\"\n",
    ")\n",
    "\n",
    "run = client.beta.threads.runs.create(\n",
    "    thread_id = thread.id,\n",
    "    assistant_id= assistant.id\n",
    "\n",
    ")\n",
    "\n",
    "import time \n",
    "\n",
    "while True:\n",
    "# Retrieve the run status\n",
    "    run_status = client.beta.threads.runs.retrieve(thread_id=thread.id,run_id=run.id)\n",
    "    time.sleep(10)\n",
    "    if run_status.status == 'completed':\n",
    "        messages = client.beta.threads.messages.list(thread_id=thread.id)\n",
    "        break\n",
    "    else:\n",
    "        ### sleep again\n",
    "        time.sleep(2)\n",
    "\n",
    "for message in reversed(messages.data):\n",
    "  print(message.role + \":\" + message.content[0].text.value)"
   ]
  },
  {
   "cell_type": "code",
   "execution_count": null,
   "id": "2cb01419-2695-4cbb-851c-16184ac1f9dd",
   "metadata": {},
   "outputs": [],
   "source": []
  },
  {
   "cell_type": "code",
   "execution_count": null,
   "id": "29c2f6b7-3529-4668-8a40-4598d5e47af6",
   "metadata": {},
   "outputs": [],
   "source": []
  }
 ],
 "metadata": {
  "kernelspec": {
   "display_name": ".venv",
   "language": "python",
   "name": ".venv"
  },
  "language_info": {
   "codemirror_mode": {
    "name": "ipython",
    "version": 3
   },
   "file_extension": ".py",
   "mimetype": "text/x-python",
   "name": "python",
   "nbconvert_exporter": "python",
   "pygments_lexer": "ipython3",
   "version": "3.10.15"
  }
 },
 "nbformat": 4,
 "nbformat_minor": 5
}
