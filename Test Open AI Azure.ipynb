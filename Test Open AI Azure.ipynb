{
 "cells": [
  {
   "cell_type": "code",
   "execution_count": 1,
   "id": "c5e97bea",
   "metadata": {},
   "outputs": [],
   "source": [
    "import os\n",
    "from langchain_community.document_loaders import TextLoader\n",
    "from langchain_community.vectorstores import FAISS\n",
    "from langchain_openai import AzureOpenAIEmbeddings\n",
    "from langchain.embeddings import OpenAIEmbeddings\n",
    "from langchain_text_splitters import RecursiveCharacterTextSplitter\n",
    "from langchain_community.document_loaders import PyPDFDirectoryLoader\n"
   ]
  },
  {
   "cell_type": "code",
   "execution_count": 2,
   "id": "0aeb11bc",
   "metadata": {},
   "outputs": [
    {
     "data": {
      "text/plain": [
       "True"
      ]
     },
     "execution_count": 2,
     "metadata": {},
     "output_type": "execute_result"
    }
   ],
   "source": [
    "from dotenv import load_dotenv\n",
    "load_dotenv(\".env\")"
   ]
  },
  {
   "cell_type": "code",
   "execution_count": 3,
   "id": "0f004e49",
   "metadata": {},
   "outputs": [],
   "source": [
    "os.environ[\"AZURE_OPENAI_API_KEY\"] = os.environ.get(\"AZURE_OPENAI_API_KEY\")\n",
    "os.environ[\"AZURE_OPENAI_ENDPOINT\"] = os.environ.get(\"AZURE_OPENAI_ENDPOINT\")\n",
    "os.environ[\"AZURE_OPENAI_API_VERSION\"] = os.environ.get(\"AZURE_OPENAI_API_VERSION\")\n"
   ]
  },
  {
   "cell_type": "code",
   "execution_count": 4,
   "id": "f83ec3db",
   "metadata": {},
   "outputs": [
    {
     "name": "stderr",
     "output_type": "stream",
     "text": [
      "/var/folders/pf/r0cmnchs509dgvhzjm4qsn640000gn/T/ipykernel_75900/2845381590.py:2: LangChainDeprecationWarning: The class `AzureChatOpenAI` was deprecated in LangChain 0.0.10 and will be removed in 1.0. An updated version of the class exists in the :class:`~langchain-openai package and should be used instead. To use it run `pip install -U :class:`~langchain-openai` and import as `from :class:`~langchain_openai import AzureChatOpenAI``.\n",
      "  llm = AzureChatOpenAI(\n"
     ]
    }
   ],
   "source": [
    "from langchain.chat_models import AzureChatOpenAI\n",
    "llm = AzureChatOpenAI(\n",
    "    azure_deployment=os.getenv(\"AZURE_OPENAI_CHAT_DEPLOYMENT\"),\n",
    "    azure_endpoint=os.getenv(\"AZURE_OPENAI_ENDPOINT\"),\n",
    "    openai_api_key=os.getenv(\"AZURE_OPENAI_API_KEY\"),\n",
    "    api_version=os.getenv(\"AZURE_OPENAI_API_VERSION\"),\n",
    "    verbose=False,\n",
    "    temperature=0.3,\n",
    ")"
   ]
  },
  {
   "cell_type": "code",
   "execution_count": 5,
   "id": "53b7f6a4",
   "metadata": {},
   "outputs": [],
   "source": [
    "from langchain.schema import (\n",
    "    SystemMessage,\n",
    "    HumanMessage,\n",
    "    AIMessage\n",
    ")\n",
    "prompt = \"Provide a detailed company overview for a pitch book presentation.\"\n",
    "messages = [\n",
    "    SystemMessage(content=f\"You are an assistant helping with investment banking slides.  {prompt}\" )                \n",
    "]\n",
    "     "
   ]
  },
  {
   "cell_type": "code",
   "execution_count": 6,
   "id": "222b6a24",
   "metadata": {},
   "outputs": [
    {
     "name": "stderr",
     "output_type": "stream",
     "text": [
      "/var/folders/pf/r0cmnchs509dgvhzjm4qsn640000gn/T/ipykernel_67793/3769255969.py:1: LangChainDeprecationWarning: The method `BaseChatModel.__call__` was deprecated in langchain-core 0.1.7 and will be removed in 1.0. Use :meth:`~invoke` instead.\n",
      "  response = llm(\n"
     ]
    },
    {
     "data": {
      "text/plain": [
       "'Certainly! Below is a detailed company overview for a pitch book presentation. This template can be customized based on the specific company being presented:\\n\\n---\\n\\n### [Company Name] Overview\\n\\n#### 1. **Company Snapshot**\\n   - **Name:** [Company Name]\\n   - **Founded:** [Year]\\n   - **Headquarters:** [City, State, Country]\\n   - **Industry:** [Industry Sector]\\n   - **Ticker Symbol:** [Ticker] (if publicly traded)\\n   - **Website'"
      ]
     },
     "execution_count": 6,
     "metadata": {},
     "output_type": "execute_result"
    }
   ],
   "source": [
    "response = llm(\n",
    "        messages= messages,\n",
    "        max_tokens=100,\n",
    "        temperature=0.2,\n",
    "    )\n",
    "\n",
    "response.content"
   ]
  },
  {
   "cell_type": "code",
   "execution_count": 6,
   "id": "cfc88976",
   "metadata": {},
   "outputs": [],
   "source": [
    "embeddings = AzureOpenAIEmbeddings(\n",
    "        azure_deployment=os.environ.get(\"AZURE_OPENAI_EMBEDDINGS_DEPLOYMENT\"),\n",
    "        openai_api_version=os.environ.get(\"AZURE_OPENAI_API_VERSION\"),\n",
    "    )"
   ]
  },
  {
   "cell_type": "code",
   "execution_count": 7,
   "id": "8a9e1de0",
   "metadata": {},
   "outputs": [],
   "source": [
    "def create_vector_database(txt_path):\n",
    "    loader=PyPDFDirectoryLoader(txt_path)\n",
    "    docs=loader.load()\n",
    "\n",
    "    documents = RecursiveCharacterTextSplitter(\n",
    "        chunk_size=1000, separators=[\"\\n\",\"\\n\\n\"], chunk_overlap=200\n",
    "    ).split_documents(docs)\n",
    "\n",
    "    embeddings = AzureOpenAIEmbeddings(\n",
    "        azure_deployment=os.environ.get(\"AZURE_OPENAI_EMBEDDINGS_DEPLOYMENT\"),\n",
    "        openai_api_version=os.environ.get(\"AZURE_OPENAI_API_VERSION\"),\n",
    "    )\n",
    "    db = FAISS.from_documents(\n",
    "        documents=documents,\n",
    "        embedding=embeddings\n",
    "    )\n",
    "    db.save_local(\"./faiss-db\")"
   ]
  },
  {
   "cell_type": "code",
   "execution_count": 14,
   "id": "efde6c24",
   "metadata": {},
   "outputs": [],
   "source": [
    "create_vector_database('10k')"
   ]
  },
  {
   "cell_type": "code",
   "execution_count": 8,
   "id": "4016974a",
   "metadata": {},
   "outputs": [],
   "source": [
    "from langchain.prompts import PromptTemplate"
   ]
  },
  {
   "cell_type": "code",
   "execution_count": 9,
   "id": "bb7c9466",
   "metadata": {},
   "outputs": [],
   "source": [
    "prompt_template = \"\"\"\n",
    "Human: Use the following pieces of context to provide a \n",
    "concise answer to the question at the end but use atleast summarize with \n",
    "250 words with detailed explantions. If you don't know the answer, \n",
    "just say that you don't know, don't try to make up an answer.\n",
    "<context>\n",
    "{context}\n",
    "</context\n",
    "\n",
    "Question: {question}\n",
    "\n",
    "Assistant:\"\"\""
   ]
  },
  {
   "cell_type": "code",
   "execution_count": 10,
   "id": "a8140ca1",
   "metadata": {},
   "outputs": [],
   "source": [
    "PROMPT = PromptTemplate(\n",
    "    template=prompt_template, input_variables=[\"context\", \"question\"]\n",
    ")"
   ]
  },
  {
   "cell_type": "code",
   "execution_count": 11,
   "id": "d494c79b",
   "metadata": {},
   "outputs": [],
   "source": [
    "vectorstore = FAISS.load_local(\"./faiss-db\", embeddings, allow_dangerous_deserialization=True)"
   ]
  },
  {
   "cell_type": "code",
   "execution_count": 12,
   "id": "99772482",
   "metadata": {},
   "outputs": [],
   "source": [
    "question = \"Get the company performance\""
   ]
  },
  {
   "cell_type": "code",
   "execution_count": 13,
   "id": "2f7402b2",
   "metadata": {},
   "outputs": [],
   "source": [
    "from langchain_core.output_parsers import StrOutputParser\n",
    "from langchain_core.runnables import RunnablePassthrough"
   ]
  },
  {
   "cell_type": "code",
   "execution_count": 22,
   "id": "705fe35f",
   "metadata": {},
   "outputs": [],
   "source": [
    "rag_chain = (\n",
    "    {\"context\": vectorstore.as_retriever(search_kwargs={\"k\": 1}), \"question\": RunnablePassthrough()}\n",
    "    | PROMPT\n",
    "    | llm\n",
    "    | StrOutputParser()\n",
    ")"
   ]
  },
  {
   "cell_type": "code",
   "execution_count": 23,
   "id": "6880f2b6",
   "metadata": {},
   "outputs": [
    {
     "name": "stdout",
     "output_type": "stream",
     "text": [
      "The provided context details the five-year cumulative total shareholder return for Apple Inc., comparing it with the S&P 500 Index and the Dow Jones U.S. Technology Supersector Index. This comparison is based on a dividend-reinvested basis, meaning any dividends paid out by the companies are assumed to be reinvested back into the stock. This method gives a more accurate picture of the total returns an investor would receive.\n",
      "\n",
      "The graph and data show the performance from September 28, 2018, to September 30, 2023. Here are the key points:\n",
      "\n",
      "1. **Initial Investment**: The graph assumes an initial investment of $100 in Apple Inc., the S&P 500 Index, and the Dow Jones U.S. Technology Supersector Index as of September 28, 2018.\n",
      "\n",
      "2. **Apple Inc. Performance**:\n",
      "   - September 28, 2018: $100\n",
      "   - September 28, 2019: $98\n",
      "   - September 26, 2020: $204\n",
      "   - September 25, 2021: $269\n",
      "   - September 24, 2022: $277\n",
      "   - September 30, 2023: $317\n",
      "\n",
      "   This data indicates that Apple's stock value increased significantly over the five-year period, growing from $100 to $317. This represents a 217% increase in value.\n",
      "\n",
      "3. **S&P 500 Index Performance**:\n",
      "   - September 28, 2018: $100\n",
      "   - September 28, 2019: $104\n",
      "   - September 26, 2020: $118\n",
      "   - September 25, 2021: $161\n",
      "   - September 24, 2022: $136\n",
      "   - September 30, 2023: $160\n",
      "\n",
      "   The S&P 500 Index also showed growth, but at a slower rate compared to Apple. The index grew from $100 to $160, a 60% increase over the same period.\n",
      "\n",
      "4. **Dow Jones U.S. Technology Supersector Index Performance**:\n",
      "   - The specific values for this index are not provided in the context, but it is implied that it is another benchmark for comparison.\n",
      "\n",
      "In summary, Apple Inc. outperformed both the S&P 500 Index and the Dow Jones U.S. Technology Supersector Index over the five-year period. Apple's stock value more than tripled, demonstrating strong performance and significant returns for shareholders. This performance, however, is not necessarily indicative of future stock price performance.\n"
     ]
    }
   ],
   "source": [
    "print(rag_chain.invoke(question))"
   ]
  },
  {
   "cell_type": "code",
   "execution_count": 21,
   "id": "f25b816b",
   "metadata": {},
   "outputs": [
    {
     "data": {
      "text/plain": [
       "150"
      ]
     },
     "execution_count": 21,
     "metadata": {},
     "output_type": "execute_result"
    }
   ],
   "source": [
    "len(retriever.get_relevant_documents(question)[0].page_content.split(\" \"))"
   ]
  }
 ],
 "metadata": {
  "kernelspec": {
   "display_name": "Python 3 (ipykernel)",
   "language": "python",
   "name": "python3"
  },
  "language_info": {
   "codemirror_mode": {
    "name": "ipython",
    "version": 3
   },
   "file_extension": ".py",
   "mimetype": "text/x-python",
   "name": "python",
   "nbconvert_exporter": "python",
   "pygments_lexer": "ipython3",
   "version": "3.10.15"
  }
 },
 "nbformat": 4,
 "nbformat_minor": 5
}
