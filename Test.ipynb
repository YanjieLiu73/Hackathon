{
 "cells": [
  {
   "cell_type": "code",
   "execution_count": 6,
   "id": "7fa4a2fa-f594-411d-99ef-4a0626eb1bc4",
   "metadata": {},
   "outputs": [],
   "source": [
    "import openai\n",
    "import os"
   ]
  },
  {
   "cell_type": "code",
   "execution_count": 7,
   "id": "c92cf4b7",
   "metadata": {},
   "outputs": [],
   "source": [
    "key_file_path = r\"D:\\Python\\KeyOpenAI.txt\"\n",
    "\n",
    "# Read the API key from the text file\n",
    "def load_api_key(filepath):\n",
    "    with open(filepath, 'r') as file:\n",
    "        return file.read().strip()\n",
    "    \n",
    "openai.api_key = load_api_key(key_file_path)"
   ]
  },
  {
   "cell_type": "code",
   "execution_count": 8,
   "id": "5fdca641-cddf-4ae8-8512-94dba1eb618f",
   "metadata": {},
   "outputs": [],
   "source": [
    "# Correct the model name\n",
    "MODEL = \"gpt-4\"  # Replace with an appropriate model name, such as \"gpt-3.5-turbo\"\n",
    "\n",
    "# Example prompt for the model\n",
    "prompt = \"What are the key components of an investment banking pitch book?\"\n",
    "\n",
    "# Call the OpenAI API (New method for v1.0.0 and above)\n",
    "response = openai.chat.completions.create(\n",
    "    model=MODEL,  # You can change the model as needed\n",
    "    messages=[\n",
    "        {\"role\": \"system\", \"content\": \"You are an assistant helping with investment banking slides.\"},\n",
    "        {\"role\": \"user\", \"content\": prompt}\n",
    "    ],\n",
    "    max_tokens=100,\n",
    "    temperature=0.2,\n",
    ")\n",
    "\n",
    "# Extract the content from the response\n",
    "content = response.choices[0].message.content.strip()\n",
    "content"
   ]
  },
  {
   "cell_type": "code",
   "execution_count": 9,
   "id": "81793f20-1eb7-4d72-a92f-9c6880bc1c4d",
   "metadata": {},
   "outputs": [
    {
     "data": {
      "text/plain": [
       "\"1. Executive Summary: This is the first section of the pitch book that provides an overview of the entire presentation. It includes the purpose of the pitch, the key points, and the recommended strategy.\\n\\n2. Company Overview: This section provides a detailed description of the client's company, including its history, operations, products/services, and market position.\\n\\n3. Financial Analysis: This section includes a detailed analysis of the company's financials, including income statements, balance sheets, and cash flow statements.\""
      ]
     },
     "execution_count": 9,
     "metadata": {},
     "output_type": "execute_result"
    }
   ],
   "source": []
  },
  {
   "cell_type": "code",
   "execution_count": 4,
   "id": "26ee090c",
   "metadata": {},
   "outputs": [],
   "source": []
  },
  {
   "cell_type": "code",
   "execution_count": null,
   "id": "22796df6",
   "metadata": {},
   "outputs": [],
   "source": []
  },
  {
   "cell_type": "code",
   "execution_count": null,
   "id": "d3cea2ec-f3c4-4fd5-874c-eaa5efdcc300",
   "metadata": {},
   "outputs": [],
   "source": []
  },
  {
   "cell_type": "code",
   "execution_count": 2,
   "id": "7243760d-07cc-4a69-9821-993034d1a01f",
   "metadata": {},
   "outputs": [],
   "source": []
  },
  {
   "cell_type": "code",
   "execution_count": 4,
   "id": "51f49027-4b4c-4454-bd7a-29acf29b77d3",
   "metadata": {},
   "outputs": [],
   "source": []
  },
  {
   "cell_type": "code",
   "execution_count": null,
   "id": "a97fe4c1-81ef-4dd4-890f-712e1b740d2d",
   "metadata": {},
   "outputs": [],
   "source": []
  },
  {
   "cell_type": "code",
   "execution_count": null,
   "id": "c05bc2e2-03f1-482e-8506-04420e763191",
   "metadata": {},
   "outputs": [],
   "source": []
  },
  {
   "cell_type": "code",
   "execution_count": null,
   "id": "65f399af-daf4-4b9d-bf47-ac9675f5a6c4",
   "metadata": {},
   "outputs": [],
   "source": []
  },
  {
   "cell_type": "code",
   "execution_count": null,
   "id": "0838ef43-893c-4ba4-aa4b-80db747061cf",
   "metadata": {},
   "outputs": [],
   "source": []
  },
  {
   "cell_type": "code",
   "execution_count": null,
   "id": "03cc0c0b-75a3-4fdc-a9d9-cfbc37f5dae6",
   "metadata": {},
   "outputs": [],
   "source": []
  }
 ],
 "metadata": {
  "kernelspec": {
   "display_name": "ibd",
   "language": "python",
   "name": "python3"
  },
  "language_info": {
   "codemirror_mode": {
    "name": "ipython",
    "version": 3
   },
   "file_extension": ".py",
   "mimetype": "text/x-python",
   "name": "python",
   "nbconvert_exporter": "python",
   "pygments_lexer": "ipython3",
   "version": "3.10.15"
  }
 },
 "nbformat": 4,
 "nbformat_minor": 5
}
